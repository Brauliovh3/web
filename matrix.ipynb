{
  "nbformat": 4,
  "nbformat_minor": 0,
  "metadata": {
    "colab": {
      "provenance": [],
      "authorship_tag": "ABX9TyP9EaOXt/c7/aKRMja4fFhR",
      "include_colab_link": true
    },
    "kernelspec": {
      "name": "python3",
      "display_name": "Python 3"
    },
    "language_info": {
      "name": "python"
    }
  },
  "cells": [
    {
      "cell_type": "markdown",
      "metadata": {
        "id": "view-in-github",
        "colab_type": "text"
      },
      "source": [
        "<a href=\"https://colab.research.google.com/github/Brauliovh3/web/blob/main/matrix.ipynb\" target=\"_parent\"><img src=\"https://colab.research.google.com/assets/colab-badge.svg\" alt=\"Open In Colab\"/></a>"
      ]
    },
    {
      "cell_type": "code",
      "execution_count": 15,
      "metadata": {
        "colab": {
          "base_uri": "https://localhost:8080/"
        },
        "id": "alhAZuspjv1L",
        "outputId": "17abfdd4-9e9f-4a70-90f1-97ee209e7359"
      },
      "outputs": [
        {
          "output_type": "stream",
          "name": "stdout",
          "text": [
            "=================================================\n",
            "⚠️ Total unidades de madera necesarias: 87\n",
            "⚠️ Total unidades de metal necesarias: 69\n",
            "⚠️ Costo total del material para el pedido: $2775\n",
            "=================================================\n"
          ]
        }
      ],
      "source": [
        "# Importar Numpy para el manejo de los datos\n",
        "import numpy as np\n",
        "# Define los requisitos de material por tipo de mueble como una matriz de NumPy\n",
        "# Filas: mesas, sillas, escritorios\n",
        "# Columnas: madera, metal\n",
        "materiales_requeridos_matrix = np.array([\n",
        "    [3, 2],  # mesa\n",
        "    [1, 1],  # silla\n",
        "    [4, 3]   # escritorio\n",
        "])\n",
        "\n",
        "# Define las cantidades del pedido como un vector de NumPy\n",
        "# Orden: mesas, sillas, escritorios\n",
        "orden_vector = np.array([10, 25, 8])\n",
        "\n",
        "# Define los costos del material como un vector de NumPy\n",
        "# Orden: madera, metal\n",
        "materiales_costos_vector = np.array([20, 15])\n",
        "\n",
        "# Calcula el total de material necesario usando multiplicación de matrices\n",
        "# Transponemos el vector de pedido para que la multiplicación de matrices sea válida\n",
        "total_materiales_vector = orden_vector.dot(materiales_requeridos_matrix)\n",
        "print(\"=================================================\")\n",
        "print(f\"⚠️ Total unidades de madera necesarias: {total_materiales_vector[0]}\")\n",
        "print(f\"⚠️ Total unidades de metal necesarias: {total_materiales_vector[1]}\")\n",
        "\n",
        "# Calcula el costo total del material usando multiplicación de vectores\n",
        "total_costos = total_materiales_vector.dot(materiales_costos_vector)\n",
        "\n",
        "print(f\"⚠️ Costo total del material para el pedido: ${total_costos}\")\n",
        "print(\"=================================================\")"
      ]
    }
  ]
}