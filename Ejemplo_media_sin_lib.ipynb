{
  "nbformat": 4,
  "nbformat_minor": 0,
  "metadata": {
    "colab": {
      "provenance": [],
      "authorship_tag": "ABX9TyPWpWOHNJfSOnIj7kaPkbTX",
      "include_colab_link": true
    },
    "kernelspec": {
      "name": "python3",
      "display_name": "Python 3"
    },
    "language_info": {
      "name": "python"
    }
  },
  "cells": [
    {
      "cell_type": "markdown",
      "metadata": {
        "id": "view-in-github",
        "colab_type": "text"
      },
      "source": [
        "<a href=\"https://colab.research.google.com/github/Brauliovh3/web/blob/main/Ejemplo_media_sin_lib.ipynb\" target=\"_parent\"><img src=\"https://colab.research.google.com/assets/colab-badge.svg\" alt=\"Open In Colab\"/></a>"
      ]
    },
    {
      "cell_type": "code",
      "source": [
        "\n",
        "#Python sin numpy\n",
        "#Ejemplo simple con numero\n",
        "#usamos len para hacer conteo de nuestros datosb\n",
        "numeros = [10, 5, 12, 10, 13]\n",
        "\n",
        "# Sumar todos los números\n",
        "suma = 0\n",
        "for num in numeros:\n",
        "    suma += num\n",
        "\n",
        "# Contar la cantidad de elementos\n",
        "cantidad = len(numeros)\n",
        "\n",
        "# Calcular la media\n",
        "media = suma / cantidad\n",
        "\n",
        "print(\"La media aritmética es:\", media)"
      ],
      "metadata": {
        "colab": {
          "base_uri": "https://localhost:8080/"
        },
        "id": "ahRqs342_Wy3",
        "outputId": "cdf18a58-c8ac-4e64-ac1e-79ff12e87a33"
      },
      "execution_count": 11,
      "outputs": [
        {
          "output_type": "stream",
          "name": "stdout",
          "text": [
            "La media aritmética es: 10.0\n"
          ]
        }
      ]
    },
    {
      "cell_type": "code",
      "execution_count": null,
      "metadata": {
        "colab": {
          "base_uri": "https://localhost:8080/"
        },
        "id": "C4ogDrxD7CHj",
        "outputId": "bdce682b-47b8-4391-eb01-752f152d568d"
      },
      "outputs": [
        {
          "output_type": "stream",
          "name": "stdout",
          "text": [
            "====================================\n",
            "Calcular la media aritmética de una lista de números\n"
          ]
        }
      ],
      "source": [
        "#Ejemplo 2 con datos Input por la persona\n",
        "#usamos len para hacer conteo de nuestros datos\n",
        "print(\"=\" * 36)\n",
        "print(\"Calcular la media aritmética de una lista de números\")\n",
        "# Pedir al usuario los números separados por espacio\n",
        "entrada = input(\"Introduce números separados por espacio: \")\n",
        "print(\"=\" * 36)\n",
        "# Convertimos la entrada a una lista de enteros\n",
        "numeros = [int(x) for x in entrada.split()]\n",
        "#Hacemos nuestras operacion definiendo a: n por numeros\n",
        "suma = 0\n",
        "for n in numeros:\n",
        "    suma += n\n",
        "cantidad = len(numeros)\n",
        "media = suma / cantidad\n",
        "\n",
        "print(\"La media aritmética es:\", media)"
      ]
    }
  ]
}